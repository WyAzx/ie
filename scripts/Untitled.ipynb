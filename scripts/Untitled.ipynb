{
 "cells": [
  {
   "cell_type": "code",
   "execution_count": 75,
   "metadata": {},
   "outputs": [],
   "source": [
    "import json\n",
    "class data_generator:\n",
    "    def __init__(self, data, batch_size=1):\n",
    "        self.data = data\n",
    "        self.batch_size = batch_size\n",
    "        self.steps = len(self.data) // self.batch_size\n",
    "        if len(self.data) % self.batch_size != 0:\n",
    "            self.steps += 1\n",
    "\n",
    "    def __len__(self):\n",
    "        return self.steps\n",
    "\n",
    "    def __iter__(self):\n",
    "        while True:\n",
    "            idxs = list(range(len(self.data)))\n",
    "            np.random.shuffle(idxs)\n",
    "            T, S1, S2, K1, K2, O1, O2, = [], [], [], [], [], [], []\n",
    "            for i in idxs:\n",
    "                d = self.data[i]\n",
    "                text = d['text']\n",
    "                items = {}\n",
    "                print(text)\n",
    "                print(i)\n",
    "                for sp in d['spo_list']:\n",
    "                    subjectid = text.find(sp[0])\n",
    "                    objectid = text.find(sp[2])\n",
    "                    if subjectid != -1 and objectid != -1:\n",
    "                        key = (subjectid, subjectid + len(sp[0]))\n",
    "                        # 这里相同subject做key时只会取第一个spo\n",
    "                        if key not in items:\n",
    "                            items[key] = []\n",
    "                        items[key].append((objectid,\n",
    "                                           objectid + len(sp[2]),\n",
    "                                           predicate2id[sp[1]]))\n",
    "                print(items)\n",
    "                if items:\n",
    "                    T.append([char2id.get(c, 1) for c in text])  # 1是unk，0是padding\n",
    "                    s1, s2 = [0] * len(text), [0] * len(text)\n",
    "                    for j in items:\n",
    "                        s1[j[0]] = 1\n",
    "                        s2[j[1] - 1] = 1\n",
    "                    k1, k2 = choice(list(items.keys()))\n",
    "                    o1, o2 = [0] * len(text), [0] * len(text)  # 0是unk类（共49+1个类）\n",
    "                    for j in items[(k1, k2)]:\n",
    "                        o1[j[0]] = j[2]\n",
    "                        o2[j[1] - 1] = j[2]\n",
    "                    S1.append(s1)\n",
    "                    S2.append(s2)\n",
    "                    K1.append([k1])\n",
    "                    K2.append([k2 - 1])\n",
    "                    O1.append(o1)\n",
    "                    O2.append(o2)\n",
    "                    if len(T) == self.batch_size or i == idxs[-1]:\n",
    "                        T = np.array(seq_padding(T))\n",
    "                        S1 = np.array(seq_padding(S1))\n",
    "                        S2 = np.array(seq_padding(S2))\n",
    "                        O1 = np.array(seq_padding(O1))\n",
    "                        O2 = np.array(seq_padding(O2))\n",
    "                        K1, K2 = np.array(K1), np.array(K2)\n",
    "                        yield [T, S1, S2, K1, K2, O1, O2], None\n",
    "                        T, S1, S2, K1, K2, O1, O2, = [], [], [], [], [], [], []"
   ]
  },
  {
   "cell_type": "code",
   "execution_count": 39,
   "metadata": {},
   "outputs": [],
   "source": [
    "train_data = json.load(open('../data_processed/train_data_me.json'))"
   ]
  },
  {
   "cell_type": "code",
   "execution_count": 76,
   "metadata": {},
   "outputs": [],
   "source": [
    "ds = data_generator(train_data)"
   ]
  },
  {
   "cell_type": "code",
   "execution_count": 77,
   "metadata": {},
   "outputs": [],
   "source": [
    "g = ds.__iter__()"
   ]
  },
  {
   "cell_type": "code",
   "execution_count": 15,
   "metadata": {},
   "outputs": [],
   "source": [
    "import numpy as np"
   ]
  },
  {
   "cell_type": "code",
   "execution_count": 79,
   "metadata": {},
   "outputs": [
    {
     "data": {
      "text/plain": [
       "{'text': '《再见.天堂》由新生代音乐人夏炎独自诠释自己的创作，运用木吉他跟手铃的搭配，平铺直述的用最单纯的声音唱出自己的内心世界',\n",
       " 'spo_list': [['再见.天堂', '作曲', '夏炎']]}"
      ]
     },
     "execution_count": 79,
     "metadata": {},
     "output_type": "execute_result"
    }
   ],
   "source": [
    "train_data[164629]"
   ]
  },
  {
   "cell_type": "code",
   "execution_count": 78,
   "metadata": {},
   "outputs": [
    {
     "name": "stdout",
     "output_type": "stream",
     "text": [
      "《再见.天堂》由新生代音乐人夏炎独自诠释自己的创作，运用木吉他跟手铃的搭配，平铺直述的用最单纯的声音唱出自己的内心世界\n",
      "164629\n",
      "{(1, 6): [(14, 16, 47)]}\n"
     ]
    }
   ],
   "source": [
    "a = next(g)"
   ]
  },
  {
   "cell_type": "code",
   "execution_count": 84,
   "metadata": {},
   "outputs": [
    {
     "data": {
      "text/plain": [
       "array([5])"
      ]
     },
     "execution_count": 84,
     "metadata": {},
     "output_type": "execute_result"
    }
   ],
   "source": [
    "a[0][4][0]"
   ]
  },
  {
   "cell_type": "code",
   "execution_count": 20,
   "metadata": {},
   "outputs": [],
   "source": [
    "dev_data = json.load(open('../data_processed/dev_data_me.json'))\n",
    "id2predicate, predicate2id = json.load(open('../data_processed/all_50_schemas_me.json'))\n",
    "id2predicate = {int(i): j for i, j in id2predicate.items()}\n",
    "id2char, char2id = json.load(open('../data_processed/all_chars_me.json'))"
   ]
  },
  {
   "cell_type": "code",
   "execution_count": 27,
   "metadata": {},
   "outputs": [],
   "source": [
    "from random import choice"
   ]
  },
  {
   "cell_type": "code",
   "execution_count": 32,
   "metadata": {},
   "outputs": [],
   "source": [
    "def seq_padding(X):\n",
    "    L = [len(x) for x in X]\n",
    "    ML = max(L)\n",
    "    return [x + [0] * (ML - len(x)) for x in X]"
   ]
  },
  {
   "cell_type": "code",
   "execution_count": null,
   "metadata": {},
   "outputs": [],
   "source": []
  }
 ],
 "metadata": {
  "kernelspec": {
   "display_name": "Python 3",
   "language": "python",
   "name": "python3"
  },
  "language_info": {
   "codemirror_mode": {
    "name": "ipython",
    "version": 3
   },
   "file_extension": ".py",
   "mimetype": "text/x-python",
   "name": "python",
   "nbconvert_exporter": "python",
   "pygments_lexer": "ipython3",
   "version": "3.6.8"
  }
 },
 "nbformat": 4,
 "nbformat_minor": 2
}
