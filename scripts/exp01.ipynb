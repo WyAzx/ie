{
 "cells": [
  {
   "cell_type": "code",
   "execution_count": 2,
   "metadata": {},
   "outputs": [],
   "source": [
    "import numpy as np\n",
    "import json"
   ]
  },
  {
   "cell_type": "code",
   "execution_count": 5,
   "metadata": {},
   "outputs": [],
   "source": [
    "train_path = './data/train_data.json'\n",
    "dev_path = '../data/dev_data.json'\n",
    "schema_path = '../data/all_50_schemas'"
   ]
  },
  {
   "cell_type": "code",
   "execution_count": 6,
   "metadata": {},
   "outputs": [
    {
     "ename": "FileNotFoundError",
     "evalue": "[Errno 2] No such file or directory: './data/train_data.json'",
     "traceback": [
      "\u001b[0;31m---------------------------------------------------------------------------\u001b[0m",
      "\u001b[0;31mFileNotFoundError\u001b[0m                         Traceback (most recent call last)",
      "\u001b[0;32m<ipython-input-6-d0319484528a>\u001b[0m in \u001b[0;36m<module>\u001b[0;34m\u001b[0m\n\u001b[1;32m      1\u001b[0m \u001b[0mtrain\u001b[0m \u001b[0;34m=\u001b[0m \u001b[0;34m[\u001b[0m\u001b[0;34m]\u001b[0m\u001b[0;34m\u001b[0m\u001b[0;34m\u001b[0m\u001b[0m\n\u001b[0;32m----> 2\u001b[0;31m \u001b[0;32mwith\u001b[0m \u001b[0mopen\u001b[0m\u001b[0;34m(\u001b[0m\u001b[0mtrain_path\u001b[0m\u001b[0;34m,\u001b[0m \u001b[0;34m'r'\u001b[0m\u001b[0;34m,\u001b[0m \u001b[0mencoding\u001b[0m\u001b[0;34m=\u001b[0m\u001b[0;34m'utf8'\u001b[0m\u001b[0;34m)\u001b[0m \u001b[0;32mas\u001b[0m \u001b[0mf\u001b[0m\u001b[0;34m:\u001b[0m\u001b[0;34m\u001b[0m\u001b[0;34m\u001b[0m\u001b[0m\n\u001b[0m\u001b[1;32m      3\u001b[0m     \u001b[0;32mfor\u001b[0m \u001b[0mline\u001b[0m \u001b[0;32min\u001b[0m \u001b[0mf\u001b[0m\u001b[0;34m:\u001b[0m\u001b[0;34m\u001b[0m\u001b[0;34m\u001b[0m\u001b[0m\n\u001b[1;32m      4\u001b[0m         \u001b[0mtrain\u001b[0m\u001b[0;34m.\u001b[0m\u001b[0mappend\u001b[0m\u001b[0;34m(\u001b[0m\u001b[0mjson\u001b[0m\u001b[0;34m.\u001b[0m\u001b[0mloads\u001b[0m\u001b[0;34m(\u001b[0m\u001b[0mline\u001b[0m\u001b[0;34m.\u001b[0m\u001b[0mstrip\u001b[0m\u001b[0;34m(\u001b[0m\u001b[0;34m)\u001b[0m\u001b[0;34m)\u001b[0m\u001b[0;34m)\u001b[0m\u001b[0;34m\u001b[0m\u001b[0;34m\u001b[0m\u001b[0m\n",
      "\u001b[0;31mFileNotFoundError\u001b[0m: [Errno 2] No such file or directory: './data/train_data.json'"
     ],
     "output_type": "error"
    }
   ],
   "source": [
    "train = []\n",
    "with open(train_path, 'r', encoding='utf8') as f:\n",
    "    for line in f:\n",
    "        train.append(json.loads(line.strip()))"
   ]
  },
  {
   "cell_type": "code",
   "execution_count": null,
   "metadata": {},
   "outputs": [],
   "source": [
    "import pprint\n",
    "pp = pprint.PrettyPrinter(inden"
   ]
  },
  {
   "cell_type": "code",
   "execution_count": 14,
   "metadata": {},
   "outputs": [
    {
     "name": "stdout",
     "output_type": "stream",
     "text": [
      "{   'postag': [   {'pos': 't', 'word': '现在'},\n",
      "                  {'pos': 'w', 'word': '，'},\n",
      "                  {'pos': 'v', 'word': '历经'},\n",
      "                  {'pos': 'n', 'word': '鑫涛'},\n",
      "                  {'pos': 'w', 'word': '（'},\n",
      "                  {'pos': 'nr', 'word': '平鑫涛'},\n",
      "                  {'pos': 'w', 'word': '，'},\n",
      "                  {'pos': 'nr', 'word': '琼瑶'},\n",
      "                  {'pos': 'u', 'word': '的'},\n",
      "                  {'pos': 'n', 'word': '丈夫'},\n",
      "                  {'pos': 'w', 'word': '）'},\n",
      "                  {'pos': 'v', 'word': '失智'},\n",
      "                  {'pos': 'w', 'word': '、'},\n",
      "                  {'pos': 'nz', 'word': '中风'},\n",
      "                  {'pos': 'w', 'word': '、'},\n",
      "                  {'pos': 'vn', 'word': '插管'},\n",
      "                  {'pos': 'u', 'word': '的'},\n",
      "                  {'pos': 'n', 'word': '风波'},\n",
      "                  {'pos': 'f', 'word': '后'},\n",
      "                  {'pos': 'w', 'word': '，'},\n",
      "                  {'pos': 'r', 'word': '我'},\n",
      "                  {'pos': 'v', 'word': '觉得'},\n",
      "                  {'pos': 'r', 'word': '我'},\n",
      "                  {'pos': 'v', 'word': '应该'},\n",
      "                  {'pos': 'v', 'word': '面对'},\n",
      "                  {'pos': 'a', 'word': '真实'},\n",
      "                  {'pos': 'u', 'word': '的'},\n",
      "                  {'pos': 'r', 'word': '自己'},\n",
      "                  {'pos': 'w', 'word': '，'},\n",
      "                  {'pos': 'v', 'word': '不需要'},\n",
      "                  {'pos': 'd', 'word': '再'},\n",
      "                  {'pos': 'p', 'word': '为'},\n",
      "                  {'pos': 'r', 'word': '别人'},\n",
      "                  {'pos': 'v', 'word': '活'},\n",
      "                  {'pos': 'w', 'word': '，'},\n",
      "                  {'pos': 'v', 'word': '要'},\n",
      "                  {'pos': 'p', 'word': '为'},\n",
      "                  {'pos': 'r', 'word': '自己'},\n",
      "                  {'pos': 'v', 'word': '活'}],\n",
      "    'spo_list': [   {   'object': '平鑫涛',\n",
      "                        'object_type': '人物',\n",
      "                        'predicate': '丈夫',\n",
      "                        'subject': '琼瑶',\n",
      "                        'subject_type': '人物'},\n",
      "                    {   'object': '琼瑶',\n",
      "                        'object_type': '人物',\n",
      "                        'predicate': '妻子',\n",
      "                        'subject': '平鑫涛',\n",
      "                        'subject_type': '人物'}],\n",
      "    'text': '现在，历经鑫涛（平鑫涛，琼瑶的丈夫）失智、中风、插管的风波后，我觉得我应该面对真实的自己，不需要再为别人活，要为自己活'}\n"
     ]
    }
   ],
   "source": [
    "pp.pprint(train[np.random.randint(len(train))])"
   ]
  },
  {
   "cell_type": "code",
   "execution_count": 15,
   "metadata": {},
   "outputs": [],
   "source": [
    "dev = []\n",
    "with open(dev_path, 'r', encoding='utf8') as f:\n",
    "    for line in f:\n",
    "        dev.append(json.loads(line.strip()))"
   ]
  },
  {
   "cell_type": "code",
   "execution_count": 16,
   "metadata": {},
   "outputs": [
    {
     "name": "stdout",
     "output_type": "stream",
     "text": [
      "{   'postag': [   {'pos': 'nr', 'word': '张际林'},\n",
      "                  {'pos': 'w', 'word': '，'},\n",
      "                  {'pos': 'a', 'word': '男'},\n",
      "                  {'pos': 'w', 'word': '，'},\n",
      "                  {'pos': 'nz', 'word': '汉族'},\n",
      "                  {'pos': 'w', 'word': '，'},\n",
      "                  {'pos': 't', 'word': '1930年'},\n",
      "                  {'pos': 't', 'word': '1月'},\n",
      "                  {'pos': 'v', 'word': '出生'},\n",
      "                  {'pos': 'p', 'word': '于'},\n",
      "                  {'pos': 'ns', 'word': '河北省'},\n",
      "                  {'pos': 'ns', 'word': '迁安市'}],\n",
      "    'spo_list': [   {   'object': '汉族',\n",
      "                        'object_type': 'Text',\n",
      "                        'predicate': '民族',\n",
      "                        'subject': '张际林',\n",
      "                        'subject_type': '人物'},\n",
      "                    {   'object': '河北省迁安市',\n",
      "                        'object_type': '地点',\n",
      "                        'predicate': '出生地',\n",
      "                        'subject': '张际林',\n",
      "                        'subject_type': '人物'},\n",
      "                    {   'object': '1930年1月',\n",
      "                        'object_type': 'Date',\n",
      "                        'predicate': '出生日期',\n",
      "                        'subject': '张际林',\n",
      "                        'subject_type': '人物'}],\n",
      "    'text': '张际林，男，汉族，1930年1月出生于河北省迁安市'}\n"
     ]
    }
   ],
   "source": [
    "pp.pprint(dev[np.random.randint(len(dev))])"
   ]
  },
  {
   "cell_type": "code",
   "execution_count": 17,
   "metadata": {},
   "outputs": [],
   "source": [
    "schemas = []\n",
    "with open(schema_path, 'r', encoding='utf8') as f:\n",
    "    for line in f:\n",
    "        schemas.append(json.loads(line.strip()))"
   ]
  },
  {
   "cell_type": "code",
   "execution_count": 18,
   "metadata": {},
   "outputs": [
    {
     "data": {
      "text/plain": [
       "[{'object_type': '地点', 'predicate': '祖籍', 'subject_type': '人物'},\n",
       " {'object_type': '人物', 'predicate': '父亲', 'subject_type': '人物'},\n",
       " {'object_type': '地点', 'predicate': '总部地点', 'subject_type': '企业'},\n",
       " {'object_type': '地点', 'predicate': '出生地', 'subject_type': '人物'},\n",
       " {'object_type': '目', 'predicate': '目', 'subject_type': '生物'},\n",
       " {'object_type': 'Number', 'predicate': '面积', 'subject_type': '行政区'},\n",
       " {'object_type': 'Text', 'predicate': '简称', 'subject_type': '机构'},\n",
       " {'object_type': 'Date', 'predicate': '上映时间', 'subject_type': '影视作品'},\n",
       " {'object_type': '人物', 'predicate': '妻子', 'subject_type': '人物'},\n",
       " {'object_type': '音乐专辑', 'predicate': '所属专辑', 'subject_type': '歌曲'},\n",
       " {'object_type': 'Number', 'predicate': '注册资本', 'subject_type': '企业'},\n",
       " {'object_type': '城市', 'predicate': '首都', 'subject_type': '国家'},\n",
       " {'object_type': '人物', 'predicate': '导演', 'subject_type': '影视作品'},\n",
       " {'object_type': 'Text', 'predicate': '字', 'subject_type': '历史人物'},\n",
       " {'object_type': 'Number', 'predicate': '身高', 'subject_type': '人物'},\n",
       " {'object_type': '企业', 'predicate': '出品公司', 'subject_type': '影视作品'},\n",
       " {'object_type': 'Number', 'predicate': '修业年限', 'subject_type': '学科专业'},\n",
       " {'object_type': 'Date', 'predicate': '出生日期', 'subject_type': '人物'},\n",
       " {'object_type': '人物', 'predicate': '制片人', 'subject_type': '影视作品'},\n",
       " {'object_type': '人物', 'predicate': '母亲', 'subject_type': '人物'},\n",
       " {'object_type': '人物', 'predicate': '编剧', 'subject_type': '影视作品'},\n",
       " {'object_type': '国家', 'predicate': '国籍', 'subject_type': '人物'},\n",
       " {'object_type': 'Number', 'predicate': '海拔', 'subject_type': '地点'},\n",
       " {'object_type': '网站', 'predicate': '连载网站', 'subject_type': '网络小说'},\n",
       " {'object_type': '人物', 'predicate': '丈夫', 'subject_type': '人物'},\n",
       " {'object_type': 'Text', 'predicate': '朝代', 'subject_type': '历史人物'},\n",
       " {'object_type': 'Text', 'predicate': '民族', 'subject_type': '人物'},\n",
       " {'object_type': 'Text', 'predicate': '号', 'subject_type': '历史人物'},\n",
       " {'object_type': '出版社', 'predicate': '出版社', 'subject_type': '书籍'},\n",
       " {'object_type': '人物', 'predicate': '主持人', 'subject_type': '电视综艺'},\n",
       " {'object_type': 'Text', 'predicate': '专业代码', 'subject_type': '学科专业'},\n",
       " {'object_type': '人物', 'predicate': '歌手', 'subject_type': '歌曲'},\n",
       " {'object_type': '人物', 'predicate': '作词', 'subject_type': '歌曲'},\n",
       " {'object_type': '人物', 'predicate': '主角', 'subject_type': '网络小说'},\n",
       " {'object_type': '人物', 'predicate': '董事长', 'subject_type': '企业'},\n",
       " {'object_type': 'Date', 'predicate': '成立日期', 'subject_type': '机构'},\n",
       " {'object_type': '学校', 'predicate': '毕业院校', 'subject_type': '人物'},\n",
       " {'object_type': 'Number', 'predicate': '占地面积', 'subject_type': '机构'},\n",
       " {'object_type': '语言', 'predicate': '官方语言', 'subject_type': '国家'},\n",
       " {'object_type': 'Text', 'predicate': '邮政编码', 'subject_type': '行政区'},\n",
       " {'object_type': 'Number', 'predicate': '人口数量', 'subject_type': '行政区'},\n",
       " {'object_type': '城市', 'predicate': '所在城市', 'subject_type': '景点'},\n",
       " {'object_type': '人物', 'predicate': '作者', 'subject_type': '图书作品'},\n",
       " {'object_type': 'Date', 'predicate': '成立日期', 'subject_type': '企业'},\n",
       " {'object_type': '人物', 'predicate': '作曲', 'subject_type': '歌曲'},\n",
       " {'object_type': '气候', 'predicate': '气候', 'subject_type': '行政区'},\n",
       " {'object_type': '人物', 'predicate': '嘉宾', 'subject_type': '电视综艺'},\n",
       " {'object_type': '人物', 'predicate': '主演', 'subject_type': '影视作品'},\n",
       " {'object_type': '作品', 'predicate': '改编自', 'subject_type': '影视作品'},\n",
       " {'object_type': '人物', 'predicate': '创始人', 'subject_type': '企业'}]"
      ]
     },
     "execution_count": 18,
     "metadata": {},
     "output_type": "execute_result"
    }
   ],
   "source": [
    "schemas"
   ]
  },
  {
   "cell_type": "code",
   "execution_count": null,
   "metadata": {},
   "outputs": [],
   "source": []
  }
 ],
 "metadata": {
  "kernelspec": {
   "display_name": "Python 3",
   "language": "python",
   "name": "python3"
  },
  "language_info": {
   "codemirror_mode": {
    "name": "ipython",
    "version": 3
   },
   "file_extension": ".py",
   "mimetype": "text/x-python",
   "name": "python",
   "nbconvert_exporter": "python",
   "pygments_lexer": "ipython3",
   "version": "3.6.8"
  }
 },
 "nbformat": 4,
 "nbformat_minor": 2
}
