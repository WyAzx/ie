{
 "cells": [
  {
   "cell_type": "code",
   "execution_count": 1,
   "metadata": {},
   "outputs": [],
   "source": [
    "import numpy as np\n",
    "import json"
   ]
  },
  {
   "cell_type": "code",
   "execution_count": 2,
   "metadata": {},
   "outputs": [],
   "source": [
    "train_path = '../data/train_data.json'\n",
    "dev_path = '../data/dev_data.json'\n",
    "schema_path = '../data/all_50_schemas'"
   ]
  },
  {
   "cell_type": "code",
   "execution_count": 3,
   "metadata": {},
   "outputs": [],
   "source": [
    "train = []\n",
    "with open(train_path, 'r', encoding='utf8') as f:\n",
    "    for line in f:\n",
    "        train.append(json.loads(line.strip()))"
   ]
  },
  {
   "cell_type": "markdown",
   "metadata": {},
   "source": [
    "col_name | des\n",
    "- | -\n",
    "text | raw text\n",
    "max_triples | max triple number\n",
    "has_postag | "
   ]
  },
  {
   "cell_type": "code",
   "execution_count": 4,
   "metadata": {},
   "outputs": [],
   "source": [
    "text = []\n",
    "num_triples = []\n",
    "has_postag = []\n",
    "for sample in train:\n",
    "    text_ = sample['text']\n",
    "    num_triples_ = len(sample['spo_list'])\n",
    "    has_postag_ = (len(sample['postag']) > 0)\n",
    "    text.append(text_)\n",
    "    num_triples.append(num_triples_)\n",
    "    has_postag.append(has_postag_)"
   ]
  },
  {
   "cell_type": "code",
   "execution_count": 5,
   "metadata": {},
   "outputs": [],
   "source": [
    "import pandas as pd"
   ]
  },
  {
   "cell_type": "code",
   "execution_count": 6,
   "metadata": {},
   "outputs": [],
   "source": [
    "train_df = pd.DataFrame(data={'text': text, 'num_triple': num_triples, 'has_postag': has_postag})"
   ]
  },
  {
   "cell_type": "code",
   "execution_count": 16,
   "metadata": {},
   "outputs": [
    {
     "data": {
      "text/plain": [
       "<matplotlib.axes._subplots.AxesSubplot at 0x7fb47f299160>"
      ]
     },
     "execution_count": 16,
     "metadata": {},
     "output_type": "execute_result"
    },
    {
     "data": {
      "image/png": "[encoded data removed]",
      "text/plain": [
       "<matplotlib.figure.Figure at 0x7fb47efbc668>"
      ]
     },
     "metadata": {},
     "output_type": "display_data"
    }
   ],
   "source": [
    "# 三元组个数分布\n",
    "train_df['num_triple'].hist(bins=25)"
   ]
  },
  {
   "cell_type": "code",
   "execution_count": 31,
   "metadata": {},
   "outputs": [
    {
     "data": {
      "text/html": [
       "<div>\n",
       "<style>\n",
       "    .dataframe thead tr:only-child th {\n",
       "        text-align: right;\n",
       "    }\n",
       "\n",
       "    .dataframe thead th {\n",
       "        text-align: left;\n",
       "    }\n",
       "\n",
       "    .dataframe tbody tr th {\n",
       "        vertical-align: top;\n",
       "    }\n",
       "</style>\n",
       "<table border=\"1\" class=\"dataframe\">\n",
       "  <thead>\n",
       "    <tr style=\"text-align: right;\">\n",
       "      <th></th>\n",
       "      <th>has_postag</th>\n",
       "      <th>text</th>\n",
       "    </tr>\n",
       "    <tr>\n",
       "      <th>num_triple</th>\n",
       "      <th></th>\n",
       "      <th></th>\n",
       "    </tr>\n",
       "  </thead>\n",
       "  <tbody>\n",
       "    <tr>\n",
       "      <th>0</th>\n",
       "      <td>13</td>\n",
       "      <td>13</td>\n",
       "    </tr>\n",
       "    <tr>\n",
       "      <th>1</th>\n",
       "      <td>74169</td>\n",
       "      <td>74169</td>\n",
       "    </tr>\n",
       "    <tr>\n",
       "      <th>2</th>\n",
       "      <td>56611</td>\n",
       "      <td>56611</td>\n",
       "    </tr>\n",
       "    <tr>\n",
       "      <th>3</th>\n",
       "      <td>21300</td>\n",
       "      <td>21300</td>\n",
       "    </tr>\n",
       "    <tr>\n",
       "      <th>4</th>\n",
       "      <td>10177</td>\n",
       "      <td>10177</td>\n",
       "    </tr>\n",
       "    <tr>\n",
       "      <th>5</th>\n",
       "      <td>4393</td>\n",
       "      <td>4393</td>\n",
       "    </tr>\n",
       "    <tr>\n",
       "      <th>6</th>\n",
       "      <td>2296</td>\n",
       "      <td>2296</td>\n",
       "    </tr>\n",
       "    <tr>\n",
       "      <th>7</th>\n",
       "      <td>1594</td>\n",
       "      <td>1594</td>\n",
       "    </tr>\n",
       "    <tr>\n",
       "      <th>8</th>\n",
       "      <td>933</td>\n",
       "      <td>933</td>\n",
       "    </tr>\n",
       "    <tr>\n",
       "      <th>9</th>\n",
       "      <td>548</td>\n",
       "      <td>548</td>\n",
       "    </tr>\n",
       "    <tr>\n",
       "      <th>10</th>\n",
       "      <td>390</td>\n",
       "      <td>390</td>\n",
       "    </tr>\n",
       "    <tr>\n",
       "      <th>11</th>\n",
       "      <td>238</td>\n",
       "      <td>238</td>\n",
       "    </tr>\n",
       "    <tr>\n",
       "      <th>12</th>\n",
       "      <td>135</td>\n",
       "      <td>135</td>\n",
       "    </tr>\n",
       "    <tr>\n",
       "      <th>13</th>\n",
       "      <td>81</td>\n",
       "      <td>81</td>\n",
       "    </tr>\n",
       "    <tr>\n",
       "      <th>14</th>\n",
       "      <td>62</td>\n",
       "      <td>62</td>\n",
       "    </tr>\n",
       "    <tr>\n",
       "      <th>15</th>\n",
       "      <td>49</td>\n",
       "      <td>49</td>\n",
       "    </tr>\n",
       "    <tr>\n",
       "      <th>16</th>\n",
       "      <td>44</td>\n",
       "      <td>44</td>\n",
       "    </tr>\n",
       "    <tr>\n",
       "      <th>17</th>\n",
       "      <td>26</td>\n",
       "      <td>26</td>\n",
       "    </tr>\n",
       "    <tr>\n",
       "      <th>18</th>\n",
       "      <td>10</td>\n",
       "      <td>10</td>\n",
       "    </tr>\n",
       "    <tr>\n",
       "      <th>19</th>\n",
       "      <td>12</td>\n",
       "      <td>12</td>\n",
       "    </tr>\n",
       "    <tr>\n",
       "      <th>20</th>\n",
       "      <td>12</td>\n",
       "      <td>12</td>\n",
       "    </tr>\n",
       "    <tr>\n",
       "      <th>21</th>\n",
       "      <td>6</td>\n",
       "      <td>6</td>\n",
       "    </tr>\n",
       "    <tr>\n",
       "      <th>22</th>\n",
       "      <td>2</td>\n",
       "      <td>2</td>\n",
       "    </tr>\n",
       "    <tr>\n",
       "      <th>23</th>\n",
       "      <td>3</td>\n",
       "      <td>3</td>\n",
       "    </tr>\n",
       "    <tr>\n",
       "      <th>24</th>\n",
       "      <td>3</td>\n",
       "      <td>3</td>\n",
       "    </tr>\n",
       "    <tr>\n",
       "      <th>25</th>\n",
       "      <td>1</td>\n",
       "      <td>1</td>\n",
       "    </tr>\n",
       "  </tbody>\n",
       "</table>\n",
       "</div>"
      ],
      "text/plain": [
       "            has_postag   text\n",
       "num_triple                   \n",
       "0                   13     13\n",
       "1                74169  74169\n",
       "2                56611  56611\n",
       "3                21300  21300\n",
       "4                10177  10177\n",
       "5                 4393   4393\n",
       "6                 2296   2296\n",
       "7                 1594   1594\n",
       "8                  933    933\n",
       "9                  548    548\n",
       "10                 390    390\n",
       "11                 238    238\n",
       "12                 135    135\n",
       "13                  81     81\n",
       "14                  62     62\n",
       "15                  49     49\n",
       "16                  44     44\n",
       "17                  26     26\n",
       "18                  10     10\n",
       "19                  12     12\n",
       "20                  12     12\n",
       "21                   6      6\n",
       "22                   2      2\n",
       "23                   3      3\n",
       "24                   3      3\n",
       "25                   1      1"
      ]
     },
     "execution_count": 31,
     "metadata": {},
     "output_type": "execute_result"
    }
   ],
   "source": [
    "train_df.groupby('num_triple').count()"
   ]
  },
  {
   "cell_type": "code",
   "execution_count": 28,
   "metadata": {},
   "outputs": [
    {
     "data": {
      "text/plain": [
       "0.9997111629734039"
      ]
     },
     "execution_count": 28,
     "metadata": {},
     "output_type": "execute_result"
    }
   ],
   "source": [
    "# 不含有postag 的sample个数\n",
    "train_df['has_postag'].sum() / train_df['has_postag'].count()"
   ]
  },
  {
   "cell_type": "code",
   "execution_count": 22,
   "metadata": {},
   "outputs": [
    {
     "data": {
      "text/plain": [
       "300"
      ]
     },
     "execution_count": 22,
     "metadata": {},
     "output_type": "execute_result"
    }
   ],
   "source": [
    "# 最大句子长度\n",
    "max(map(len, text))"
   ]
  },
  {
   "cell_type": "code",
   "execution_count": 36,
   "metadata": {},
   "outputs": [],
   "source": [
    "# 统计关系类型出现频次\n",
    "from collections import defaultdict\n",
    "train_rel = defaultdict(int)\n",
    "for sample in train:\n",
    "    spo_list = sample['spo_list']\n",
    "    for spo in spo_list:\n",
    "        predi = spo['predicate']\n",
    "        train_rel[predi] += 1\n",
    "        \n",
    "dev_rel = defaultdict(int)\n",
    "for sample in dev:\n",
    "    spo_list = sample['spo_list']\n",
    "    for spo in spo_list:\n",
    "        predi = spo['predicate']\n",
    "        dev_rel[predi] += 1\n",
    "        "
   ]
  },
  {
   "cell_type": "code",
   "execution_count": 40,
   "metadata": {},
   "outputs": [],
   "source": [
    "train_rel = sorted(train_rel.items(), key=lambda x: x[1], reverse=True)\n",
    "dev_rel = sorted(dev_rel.items(), key=lambda x: x[1], reverse=True)"
   ]
  },
  {
   "cell_type": "code",
   "execution_count": 62,
   "metadata": {},
   "outputs": [],
   "source": [
    "import matplotlib.pyplot as plt\n",
    "# 指定默认字体\n",
    "plt.rcParams['font.sans-serif']=['SimHei'] \n",
    "plt.rcParams['font.family']='sans-serif' \n",
    "# 用来正常显示负号\n",
    "plt.rcParams['axes.unicode_minus']=False\n"
   ]
  },
  {
   "cell_type": "code",
   "execution_count": 64,
   "metadata": {},
   "outputs": [
    {
     "data": {
      "text/plain": [
       "<matplotlib.axes._subplots.AxesSubplot at 0x7fb4707739b0>"
      ]
     },
     "execution_count": 64,
     "metadata": {},
     "output_type": "execute_result"
    },
    {
     "name": "stderr",
     "output_type": "stream",
     "text": [
      "/home/luban/miniconda3/lib/python3.6/site-packages/matplotlib/font_manager.py:1320: UserWarning: findfont: Font family ['sans-serif'] not found. Falling back to DejaVu Sans\n",
      "  (prop.get_family(), self.defaultFamily[fontext]))\n"
     ]
    },
    {
     "data": {
      "image/png": "[encoded data removed]",
      "text/plain": [
       "<matplotlib.figure.Figure at 0x7fb4702e1b38>"
      ]
     },
     "metadata": {},
     "output_type": "display_data"
    }
   ],
   "source": [
    "train_rel_ser = pd.Series(list(zip(*train_rel))[1], index=list(zip(*train_rel))[0])\n",
    "train_rel_ser.plot.bar(figsize=(40, 10))"
   ]
  },
  {
   "cell_type": "code",
   "execution_count": 67,
   "metadata": {},
   "outputs": [
    {
     "data": {
      "text/plain": [
       "[('主演', 59893),\n",
       " ('作者', 33853),\n",
       " ('歌手', 25605),\n",
       " ('出生日期', 23290),\n",
       " ('导演', 22007),\n",
       " ('出生地', 19813),\n",
       " ('出版社', 17709),\n",
       " ('成立日期', 12906),\n",
       " ('连载网站', 12877),\n",
       " ('国籍', 12261),\n",
       " ('毕业院校', 11515),\n",
       " ('民族', 11453),\n",
       " ('所属专辑', 10402),\n",
       " ('目', 10342),\n",
       " ('作曲', 9607),\n",
       " ('作词', 9046),\n",
       " ('编剧', 6667),\n",
       " ('出品公司', 6419),\n",
       " ('妻子', 5462),\n",
       " ('丈夫', 5462),\n",
       " ('父亲', 4701),\n",
       " ('上映时间', 3522),\n",
       " ('母亲', 3516),\n",
       " ('朝代', 3433),\n",
       " ('身高', 2905),\n",
       " ('字', 2733),\n",
       " ('总部地点', 2466),\n",
       " ('号', 1551),\n",
       " ('主持人', 1511),\n",
       " ('祖籍', 1492),\n",
       " ('嘉宾', 1368),\n",
       " ('制片人', 1160),\n",
       " ('简称', 1008),\n",
       " ('气候', 920),\n",
       " ('面积', 660),\n",
       " ('创始人', 633),\n",
       " ('所在城市', 575),\n",
       " ('改编自', 553),\n",
       " ('占地面积', 502),\n",
       " ('人口数量', 409),\n",
       " ('首都', 397),\n",
       " ('注册资本', 397),\n",
       " ('海拔', 383),\n",
       " ('董事长', 368),\n",
       " ('主角', 250),\n",
       " ('官方语言', 145),\n",
       " ('专业代码', 26),\n",
       " ('邮政编码', 25),\n",
       " ('修业年限', 20)]"
      ]
     },
     "execution_count": 67,
     "metadata": {},
     "output_type": "execute_result"
    }
   ],
   "source": [
    "train_rel"
   ]
  },
  {
   "cell_type": "code",
   "execution_count": null,
   "metadata": {},
   "outputs": [],
   "source": [
    "def get_tri(data):\n",
    "    raw_tri = []\n",
    "    pro_tri = []\n",
    "    nor = []\n",
    "    olp = []\n",
    "    mul = []\n",
    "    nest = []\n",
    "    no_sub = []\n",
    "    no_obj = []\n",
    "    for sample in data:\n",
    "        spo_list = data['spo_list']\n",
    "        rsl = []\n",
    "        psl = []\n",
    "        text = data['text']\n",
    "        no_sub = False\n",
    "        no_obj = False\n",
    "        for spo in spo_list:\n",
    "            sub = spo['subject']\n",
    "            obj = spo['object']\n",
    "            pre = spo['predicate']\n",
    "            preid = schema2id[pre]\n",
    "            subs = text.find(sub)\n",
    "            sube = subs + len(sub) - 1\n",
    "            objs = text.find(obj)\n",
    "            obje = objs + len(obj) - 1\n",
    "            if subs == -1:\n",
    "                \n",
    "                \n",
    "        "
   ]
  },
  {
   "cell_type": "code",
   "execution_count": 34,
   "metadata": {},
   "outputs": [],
   "source": [
    "import pprint\n",
    "pp = pprint.PrettyPrinter(indent=4)"
   ]
  },
  {
   "cell_type": "code",
   "execution_count": 14,
   "metadata": {},
   "outputs": [
    {
     "name": "stdout",
     "output_type": "stream",
     "text": [
      "{   'postag': [   {'pos': 't', 'word': '现在'},\n",
      "                  {'pos': 'w', 'word': '，'},\n",
      "                  {'pos': 'v', 'word': '历经'},\n",
      "                  {'pos': 'n', 'word': '鑫涛'},\n",
      "                  {'pos': 'w', 'word': '（'},\n",
      "                  {'pos': 'nr', 'word': '平鑫涛'},\n",
      "                  {'pos': 'w', 'word': '，'},\n",
      "                  {'pos': 'nr', 'word': '琼瑶'},\n",
      "                  {'pos': 'u', 'word': '的'},\n",
      "                  {'pos': 'n', 'word': '丈夫'},\n",
      "                  {'pos': 'w', 'word': '）'},\n",
      "                  {'pos': 'v', 'word': '失智'},\n",
      "                  {'pos': 'w', 'word': '、'},\n",
      "                  {'pos': 'nz', 'word': '中风'},\n",
      "                  {'pos': 'w', 'word': '、'},\n",
      "                  {'pos': 'vn', 'word': '插管'},\n",
      "                  {'pos': 'u', 'word': '的'},\n",
      "                  {'pos': 'n', 'word': '风波'},\n",
      "                  {'pos': 'f', 'word': '后'},\n",
      "                  {'pos': 'w', 'word': '，'},\n",
      "                  {'pos': 'r', 'word': '我'},\n",
      "                  {'pos': 'v', 'word': '觉得'},\n",
      "                  {'pos': 'r', 'word': '我'},\n",
      "                  {'pos': 'v', 'word': '应该'},\n",
      "                  {'pos': 'v', 'word': '面对'},\n",
      "                  {'pos': 'a', 'word': '真实'},\n",
      "                  {'pos': 'u', 'word': '的'},\n",
      "                  {'pos': 'r', 'word': '自己'},\n",
      "                  {'pos': 'w', 'word': '，'},\n",
      "                  {'pos': 'v', 'word': '不需要'},\n",
      "                  {'pos': 'd', 'word': '再'},\n",
      "                  {'pos': 'p', 'word': '为'},\n",
      "                  {'pos': 'r', 'word': '别人'},\n",
      "                  {'pos': 'v', 'word': '活'},\n",
      "                  {'pos': 'w', 'word': '，'},\n",
      "                  {'pos': 'v', 'word': '要'},\n",
      "                  {'pos': 'p', 'word': '为'},\n",
      "                  {'pos': 'r', 'word': '自己'},\n",
      "                  {'pos': 'v', 'word': '活'}],\n",
      "    'spo_list': [   {   'object': '平鑫涛',\n",
      "                        'object_type': '人物',\n",
      "                        'predicate': '丈夫',\n",
      "                        'subject': '琼瑶',\n",
      "                        'subject_type': '人物'},\n",
      "                    {   'object': '琼瑶',\n",
      "                        'object_type': '人物',\n",
      "                        'predicate': '妻子',\n",
      "                        'subject': '平鑫涛',\n",
      "                        'subject_type': '人物'}],\n",
      "    'text': '现在，历经鑫涛（平鑫涛，琼瑶的丈夫）失智、中风、插管的风波后，我觉得我应该面对真实的自己，不需要再为别人活，要为自己活'}\n"
     ]
    }
   ],
   "source": [
    "pp.pprint(train[np.random.randint(len(train))])"
   ]
  },
  {
   "cell_type": "code",
   "execution_count": 32,
   "metadata": {},
   "outputs": [],
   "source": [
    "dev = []\n",
    "with open(dev_path, 'r', encoding='utf8') as f:\n",
    "    for line in f:\n",
    "        dev.append(json.loads(line.strip()))"
   ]
  },
  {
   "cell_type": "code",
   "execution_count": 35,
   "metadata": {},
   "outputs": [
    {
     "name": "stdout",
     "output_type": "stream",
     "text": [
      "{   'postag': [   {'pos': 'c', 'word': '若'},\n",
      "                  {'pos': 'v', 'word': '说'},\n",
      "                  {'pos': 'nr', 'word': '金庸'},\n",
      "                  {'pos': 'd', 'word': '最'},\n",
      "                  {'pos': 'n', 'word': '巅峰'},\n",
      "                  {'pos': 'd', 'word': '又'},\n",
      "                  {'pos': 'd', 'word': '最'},\n",
      "                  {'pos': 'v', 'word': '颠覆'},\n",
      "                  {'pos': 'u', 'word': '的'},\n",
      "                  {'pos': 'm', 'word': '一本'},\n",
      "                  {'pos': 'n', 'word': '武侠'},\n",
      "                  {'pos': 'n', 'word': '小说'},\n",
      "                  {'pos': 'v', 'word': '是'},\n",
      "                  {'pos': 'w', 'word': '《'},\n",
      "                  {'pos': 'nw', 'word': '鹿鼎记'},\n",
      "                  {'pos': 'w', 'word': '》'},\n",
      "                  {'pos': 'w', 'word': '，'},\n",
      "                  {'pos': 'c', 'word': '那么'},\n",
      "                  {'pos': 'r', 'word': '我'},\n",
      "                  {'pos': 'v', 'word': '觉得'},\n",
      "                  {'pos': 'w', 'word': '《'},\n",
      "                  {'pos': 'nw', 'word': '欢乐英雄'},\n",
      "                  {'pos': 'w', 'word': '》'},\n",
      "                  {'pos': 'd', 'word': '也'},\n",
      "                  {'pos': 'v', 'word': '代表'},\n",
      "                  {'pos': 'nr', 'word': '古龙'},\n",
      "                  {'pos': 'm', 'word': '一种'},\n",
      "                  {'pos': 'a', 'word': '新'},\n",
      "                  {'pos': 'u', 'word': '的'},\n",
      "                  {'pos': 'vn', 'word': '创作'},\n",
      "                  {'pos': 'n', 'word': '境界'}],\n",
      "    'spo_list': [   {   'object': '金庸',\n",
      "                        'object_type': '人物',\n",
      "                        'predicate': '编剧',\n",
      "                        'subject': '鹿鼎记',\n",
      "                        'subject_type': '影视作品'},\n",
      "                    {   'object': '古龙',\n",
      "                        'object_type': '人物',\n",
      "                        'predicate': '作者',\n",
      "                        'subject': '欢乐英雄',\n",
      "                        'subject_type': '图书作品'}],\n",
      "    'text': '若说金庸最巅峰又最颠覆的一本武侠小说是《鹿鼎记》，那么我觉得《欢乐英雄》也代表古龙一种新的创作境界'}\n"
     ]
    }
   ],
   "source": [
    "pp.pprint(dev[np.random.randint(len(dev))])"
   ]
  },
  {
   "cell_type": "code",
   "execution_count": 23,
   "metadata": {},
   "outputs": [],
   "source": [
    "schemas = []\n",
    "with open(schema_path, 'r', encoding='utf8') as f:\n",
    "    for line in f:\n",
    "        schemas.append(json.loads(line.strip()))"
   ]
  },
  {
   "cell_type": "code",
   "execution_count": 69,
   "metadata": {},
   "outputs": [
    {
     "data": {
      "text/plain": [
       "[{'object_type': '地点', 'predicate': '祖籍', 'subject_type': '人物'},\n",
       " {'object_type': '人物', 'predicate': '父亲', 'subject_type': '人物'},\n",
       " {'object_type': '地点', 'predicate': '总部地点', 'subject_type': '企业'},\n",
       " {'object_type': '地点', 'predicate': '出生地', 'subject_type': '人物'},\n",
       " {'object_type': '目', 'predicate': '目', 'subject_type': '生物'},\n",
       " {'object_type': 'Number', 'predicate': '面积', 'subject_type': '行政区'},\n",
       " {'object_type': 'Text', 'predicate': '简称', 'subject_type': '机构'},\n",
       " {'object_type': 'Date', 'predicate': '上映时间', 'subject_type': '影视作品'},\n",
       " {'object_type': '人物', 'predicate': '妻子', 'subject_type': '人物'},\n",
       " {'object_type': '音乐专辑', 'predicate': '所属专辑', 'subject_type': '歌曲'},\n",
       " {'object_type': 'Number', 'predicate': '注册资本', 'subject_type': '企业'},\n",
       " {'object_type': '城市', 'predicate': '首都', 'subject_type': '国家'},\n",
       " {'object_type': '人物', 'predicate': '导演', 'subject_type': '影视作品'},\n",
       " {'object_type': 'Text', 'predicate': '字', 'subject_type': '历史人物'},\n",
       " {'object_type': 'Number', 'predicate': '身高', 'subject_type': '人物'},\n",
       " {'object_type': '企业', 'predicate': '出品公司', 'subject_type': '影视作品'},\n",
       " {'object_type': 'Number', 'predicate': '修业年限', 'subject_type': '学科专业'},\n",
       " {'object_type': 'Date', 'predicate': '出生日期', 'subject_type': '人物'},\n",
       " {'object_type': '人物', 'predicate': '制片人', 'subject_type': '影视作品'},\n",
       " {'object_type': '人物', 'predicate': '母亲', 'subject_type': '人物'},\n",
       " {'object_type': '人物', 'predicate': '编剧', 'subject_type': '影视作品'},\n",
       " {'object_type': '国家', 'predicate': '国籍', 'subject_type': '人物'},\n",
       " {'object_type': 'Number', 'predicate': '海拔', 'subject_type': '地点'},\n",
       " {'object_type': '网站', 'predicate': '连载网站', 'subject_type': '网络小说'},\n",
       " {'object_type': '人物', 'predicate': '丈夫', 'subject_type': '人物'},\n",
       " {'object_type': 'Text', 'predicate': '朝代', 'subject_type': '历史人物'},\n",
       " {'object_type': 'Text', 'predicate': '民族', 'subject_type': '人物'},\n",
       " {'object_type': 'Text', 'predicate': '号', 'subject_type': '历史人物'},\n",
       " {'object_type': '出版社', 'predicate': '出版社', 'subject_type': '书籍'},\n",
       " {'object_type': '人物', 'predicate': '主持人', 'subject_type': '电视综艺'},\n",
       " {'object_type': 'Text', 'predicate': '专业代码', 'subject_type': '学科专业'},\n",
       " {'object_type': '人物', 'predicate': '歌手', 'subject_type': '歌曲'},\n",
       " {'object_type': '人物', 'predicate': '作词', 'subject_type': '歌曲'},\n",
       " {'object_type': '人物', 'predicate': '主角', 'subject_type': '网络小说'},\n",
       " {'object_type': '人物', 'predicate': '董事长', 'subject_type': '企业'},\n",
       " {'object_type': 'Date', 'predicate': '成立日期', 'subject_type': '机构'},\n",
       " {'object_type': '学校', 'predicate': '毕业院校', 'subject_type': '人物'},\n",
       " {'object_type': 'Number', 'predicate': '占地面积', 'subject_type': '机构'},\n",
       " {'object_type': '语言', 'predicate': '官方语言', 'subject_type': '国家'},\n",
       " {'object_type': 'Text', 'predicate': '邮政编码', 'subject_type': '行政区'},\n",
       " {'object_type': 'Number', 'predicate': '人口数量', 'subject_type': '行政区'},\n",
       " {'object_type': '城市', 'predicate': '所在城市', 'subject_type': '景点'},\n",
       " {'object_type': '人物', 'predicate': '作者', 'subject_type': '图书作品'},\n",
       " {'object_type': 'Date', 'predicate': '成立日期', 'subject_type': '企业'},\n",
       " {'object_type': '人物', 'predicate': '作曲', 'subject_type': '歌曲'},\n",
       " {'object_type': '气候', 'predicate': '气候', 'subject_type': '行政区'},\n",
       " {'object_type': '人物', 'predicate': '嘉宾', 'subject_type': '电视综艺'},\n",
       " {'object_type': '人物', 'predicate': '主演', 'subject_type': '影视作品'},\n",
       " {'object_type': '作品', 'predicate': '改编自', 'subject_type': '影视作品'},\n",
       " {'object_type': '人物', 'predicate': '创始人', 'subject_type': '企业'}]"
      ]
     },
     "execution_count": 69,
     "metadata": {},
     "output_type": "execute_result"
    }
   ],
   "source": [
    "schemas"
   ]
  },
  {
   "cell_type": "code",
   "execution_count": 78,
   "metadata": {},
   "outputs": [],
   "source": [
    "a = Counter([x['predicate'] for x in schemas])\n",
    "b = set([x[0] for x in train_rel])"
   ]
  },
  {
   "cell_type": "code",
   "execution_count": 77,
   "metadata": {},
   "outputs": [],
   "source": [
    "from collections import Counter"
   ]
  },
  {
   "cell_type": "code",
   "execution_count": 79,
   "metadata": {},
   "outputs": [
    {
     "data": {
      "text/plain": [
       "Counter({'丈夫': 1,\n",
       "         '上映时间': 1,\n",
       "         '专业代码': 1,\n",
       "         '主持人': 1,\n",
       "         '主演': 1,\n",
       "         '主角': 1,\n",
       "         '人口数量': 1,\n",
       "         '作曲': 1,\n",
       "         '作者': 1,\n",
       "         '作词': 1,\n",
       "         '修业年限': 1,\n",
       "         '出品公司': 1,\n",
       "         '出版社': 1,\n",
       "         '出生地': 1,\n",
       "         '出生日期': 1,\n",
       "         '创始人': 1,\n",
       "         '制片人': 1,\n",
       "         '占地面积': 1,\n",
       "         '号': 1,\n",
       "         '嘉宾': 1,\n",
       "         '国籍': 1,\n",
       "         '妻子': 1,\n",
       "         '字': 1,\n",
       "         '官方语言': 1,\n",
       "         '导演': 1,\n",
       "         '总部地点': 1,\n",
       "         '成立日期': 2,\n",
       "         '所在城市': 1,\n",
       "         '所属专辑': 1,\n",
       "         '改编自': 1,\n",
       "         '朝代': 1,\n",
       "         '歌手': 1,\n",
       "         '母亲': 1,\n",
       "         '毕业院校': 1,\n",
       "         '民族': 1,\n",
       "         '气候': 1,\n",
       "         '注册资本': 1,\n",
       "         '海拔': 1,\n",
       "         '父亲': 1,\n",
       "         '目': 1,\n",
       "         '祖籍': 1,\n",
       "         '简称': 1,\n",
       "         '编剧': 1,\n",
       "         '董事长': 1,\n",
       "         '身高': 1,\n",
       "         '连载网站': 1,\n",
       "         '邮政编码': 1,\n",
       "         '面积': 1,\n",
       "         '首都': 1})"
      ]
     },
     "execution_count": 79,
     "metadata": {},
     "output_type": "execute_result"
    }
   ],
   "source": [
    "# 成立日期有两个，企业和机构，总共有49个schema\n",
    "a"
   ]
  },
  {
   "cell_type": "code",
   "execution_count": 90,
   "metadata": {},
   "outputs": [],
   "source": [
    "id2schema = [x[0] for x in train_rel]"
   ]
  },
  {
   "cell_type": "code",
   "execution_count": 91,
   "metadata": {},
   "outputs": [],
   "source": [
    "schema2id = {}\n",
    "for i, s in enumerate(id2schema):\n",
    "    schema2id[s] = i"
   ]
  },
  {
   "cell_type": "code",
   "execution_count": 93,
   "metadata": {},
   "outputs": [],
   "source": [
    "with open('schema_vocab.txt', 'w', encoding='utf8') as f:\n",
    "    for x in train_rel:\n",
    "        f.write('{}\\t{}\\n'.format(x[0], x[1]))"
   ]
  },
  {
   "cell_type": "code",
   "execution_count": null,
   "metadata": {},
   "outputs": [],
   "source": []
  }
 ],
 "metadata": {
  "kernelspec": {
   "display_name": "Python 3",
   "language": "python",
   "name": "python3"
  },
  "language_info": {
   "codemirror_mode": {
    "name": "ipython",
    "version": 3
   },
   "file_extension": ".py",
   "mimetype": "text/x-python",
   "name": "python",
   "nbconvert_exporter": "python",
   "pygments_lexer": "ipython3",
   "version": "3.6.3"
  }
 },
 "nbformat": 4,
 "nbformat_minor": 2
}
